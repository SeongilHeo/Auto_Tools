{
 "cells": [
  {
   "cell_type": "code",
   "execution_count": 1,
   "id": "35e26ea7-ddb7-48ca-8a92-9606f1de5aec",
   "metadata": {},
   "outputs": [],
   "source": [
    "n=5#int(input())\n",
    "L=[[3, 7], [5, 10], [0, 11], [6, 13], [10, 14]]\n",
    "\n"
   ]
  },
  {
   "cell_type": "code",
   "execution_count": 2,
   "id": "25e83965-5128-41c1-8550-c6f4a6de2b46",
   "metadata": {},
   "outputs": [],
   "source": [
    "S,E=map(list,list(zip(*L)))"
   ]
  },
  {
   "cell_type": "code",
   "execution_count": 3,
   "id": "d7f7fd12-0235-45ca-a5e9-2852b2fca111",
   "metadata": {},
   "outputs": [],
   "source": [
    "S.sort()"
   ]
  },
  {
   "cell_type": "code",
   "execution_count": 4,
   "id": "d2c59c74-ab02-4402-9eaf-fc783a5698db",
   "metadata": {},
   "outputs": [],
   "source": [
    "E.sort()"
   ]
  },
  {
   "cell_type": "code",
   "execution_count": 5,
   "id": "3e0c2253-31e6-41c4-8a27-609a81a58786",
   "metadata": {},
   "outputs": [],
   "source": [
    "A=list(set(S+E))"
   ]
  },
  {
   "cell_type": "code",
   "execution_count": 6,
   "id": "3dc9f9e3-83dc-4f60-b5a7-4095242d329f",
   "metadata": {},
   "outputs": [
    {
     "data": {
      "text/plain": [
       "[0, 3, 5, 6, 7, 10, 11, 13, 14]"
      ]
     },
     "execution_count": 6,
     "metadata": {},
     "output_type": "execute_result"
    }
   ],
   "source": [
    "A"
   ]
  },
  {
   "cell_type": "code",
   "execution_count": null,
   "id": "40078240-e202-4e3d-abc0-8ff94ff6df87",
   "metadata": {},
   "outputs": [],
   "source": [
    "n=int(input())\n",
    "L=[list(map(int,input().split())) for _ in range(n)]\n",
    "L.sort(key=lambda x:x[1])\n",
    "S,E=map(list,zip(*L))\n",
    "\n",
    "a=[]\n",
    "k=0\n",
    "i=j=len(A)-1\n",
    "sign=False\n",
    "before=\"x\"\n",
    "while S and E:\n",
    "    if S[i]>E[j]:\n",
    "        T=S.pop()\n",
    "    E.pop()\n",
    "    if T in S:\n",
    "        sign=True\n",
    "    if T in E:\n",
    "        k+=1\n",
    "    a.append(k)\n",
    "    if sign ==True:\n",
    "        k-=1\n",
    "        sign=False\n",
    "    j-=1\n",
    "    print(a)\n",
    "print(max(a))"
   ]
  },
  {
   "cell_type": "code",
   "execution_count": 23,
   "id": "fbf4dc29-1941-4467-abaa-98c73f1cdd41",
   "metadata": {},
   "outputs": [
    {
     "data": {
      "text/plain": [
       "[1, 2, 3, 4, 4, 3, 2, 1]"
      ]
     },
     "execution_count": 23,
     "metadata": {},
     "output_type": "execute_result"
    }
   ],
   "source": [
    "a"
   ]
  },
  {
   "cell_type": "code",
   "execution_count": null,
   "id": "81810767-922f-45ff-a133-d85fc84cb74e",
   "metadata": {},
   "outputs": [],
   "source": []
  },
  {
   "cell_type": "code",
   "execution_count": 2,
   "id": "5a5be269-ae05-497b-af07-d3edf544cfb3",
   "metadata": {},
   "outputs": [],
   "source": [
    "l=[[1,2],[3,43]]"
   ]
  },
  {
   "cell_type": "code",
   "execution_count": 6,
   "id": "c72ac49e-a4ec-4f0c-b00b-85d3d5a17a00",
   "metadata": {},
   "outputs": [
    {
     "data": {
      "text/plain": [
       "[(1, 3), (2, 43)]"
      ]
     },
     "execution_count": 6,
     "metadata": {},
     "output_type": "execute_result"
    }
   ],
   "source": [
    "list(zip(*l))"
   ]
  },
  {
   "cell_type": "code",
   "execution_count": 2,
   "id": "preliminary-heating",
   "metadata": {},
   "outputs": [
    {
     "name": "stdout",
     "output_type": "stream",
     "text": [
      "student names with space이한준 김지연 허수영 강도휘 강혜진 김서영 김용운 김태주 노시현 서유민 안예은 이무영 이승민 이채은 임한이 장예찬\n"
     ]
    },
    {
     "name": "stderr",
     "output_type": "stream",
     "text": [
      "send: 'ehlo [220.67.126.125]\\r\\n'\n",
      "reply: b'250-smtp.gmail.com at your service, [220.67.126.125]\\r\\n'\n",
      "reply: b'250-SIZE 35882577\\r\\n'\n",
      "reply: b'250-8BITMIME\\r\\n'\n",
      "reply: b'250-STARTTLS\\r\\n'\n",
      "reply: b'250-ENHANCEDSTATUSCODES\\r\\n'\n",
      "reply: b'250-PIPELINING\\r\\n'\n",
      "reply: b'250-CHUNKING\\r\\n'\n",
      "reply: b'250 SMTPUTF8\\r\\n'\n",
      "reply: retcode (250); Msg: b'smtp.gmail.com at your service, [220.67.126.125]\\nSIZE 35882577\\n8BITMIME\\nSTARTTLS\\nENHANCEDSTATUSCODES\\nPIPELINING\\nCHUNKING\\nSMTPUTF8'\n",
      "send: 'STARTTLS\\r\\n'\n",
      "reply: b'220 2.0.0 Ready to start TLS\\r\\n'\n",
      "reply: retcode (220); Msg: b'2.0.0 Ready to start TLS'\n",
      "send: 'ehlo [220.67.126.125]\\r\\n'\n",
      "reply: b'250-smtp.gmail.com at your service, [220.67.126.125]\\r\\n'\n",
      "reply: b'250-SIZE 35882577\\r\\n'\n",
      "reply: b'250-8BITMIME\\r\\n'\n",
      "reply: b'250-AUTH LOGIN PLAIN XOAUTH2 PLAIN-CLIENTTOKEN OAUTHBEARER XOAUTH\\r\\n'\n",
      "reply: b'250-ENHANCEDSTATUSCODES\\r\\n'\n",
      "reply: b'250-PIPELINING\\r\\n'\n",
      "reply: b'250-CHUNKING\\r\\n'\n",
      "reply: b'250 SMTPUTF8\\r\\n'\n",
      "reply: retcode (250); Msg: b'smtp.gmail.com at your service, [220.67.126.125]\\nSIZE 35882577\\n8BITMIME\\nAUTH LOGIN PLAIN XOAUTH2 PLAIN-CLIENTTOKEN OAUTHBEARER XOAUTH\\nENHANCEDSTATUSCODES\\nPIPELINING\\nCHUNKING\\nSMTPUTF8'\n",
      "send: 'AUTH PLAIN AHRqZGRsZjEwMUBnbWFpbC5jb20AcWtqbGJoZ2l4cXd3enFvZw==\\r\\n'\n",
      "reply: b'235 2.7.0 Accepted\\r\\n'\n",
      "reply: retcode (235); Msg: b'2.7.0 Accepted'\n",
      "send: 'mail FROM:<tjddlf101@google.com> size=511\\r\\n'\n",
      "reply: b'250 2.1.0 OK 26sm725302pgn.82 - gsmtp\\r\\n'\n",
      "reply: retcode (250); Msg: b'2.1.0 OK 26sm725302pgn.82 - gsmtp'\n",
      "send: 'rcpt TO:<gjtjddlf101@naver.com>\\r\\n'\n",
      "reply: b'250 2.1.5 OK 26sm725302pgn.82 - gsmtp\\r\\n'\n",
      "reply: retcode (250); Msg: b'2.1.5 OK 26sm725302pgn.82 - gsmtp'\n",
      "send: 'data\\r\\n'\n",
      "reply: b'354  Go ahead 26sm725302pgn.82 - gsmtp\\r\\n'\n",
      "reply: retcode (354); Msg: b'Go ahead 26sm725302pgn.82 - gsmtp'\n",
      "data: (354, b'Go ahead 26sm725302pgn.82 - gsmtp')\n",
      "send: b'MIME-Version: 1.0\\r\\nContent-Type: multipart/alternative; charset=\"utf-8\"; boundary=\"===============5049785238109783384==\"\\r\\nContent-Transfer-Encoding: base64\\r\\nFrom: =?utf-8?b?7ZeI7ISx7J28?= <tjddlf101@google.com>\\r\\nTo: =?utf-8?b?64W47Iuc7ZiE?= <gjtjddlf101@naver.com>\\r\\nSubject: =?utf-8?b?64W47Iuc7ZiE?=\\r\\n\\r\\n--===============5049785238109783384==\\r\\nContent-Type: text/html; charset=\"utf-8\"\\r\\nMIME-Version: 1.0\\r\\nContent-Transfer-Encoding: base64\\r\\n\\r\\nPGgyPuuFuOyLnO2YhDwvaDE+\\r\\n\\r\\n--===============5049785238109783384==--\\r\\n.\\r\\n'\n",
      "reply: b'250 2.0.0 OK  1639099336 26sm725302pgn.82 - gsmtp\\r\\n'\n",
      "reply: retcode (250); Msg: b'2.0.0 OK  1639099336 26sm725302pgn.82 - gsmtp'\n",
      "data: (250, b'2.0.0 OK  1639099336 26sm725302pgn.82 - gsmtp')\n",
      "send: 'quit\\r\\n'\n",
      "reply: b'221 2.0.0 closing connection 26sm725302pgn.82 - gsmtp\\r\\n'\n",
      "reply: retcode (221); Msg: b'2.0.0 closing connection 26sm725302pgn.82 - gsmtp'\n"
     ]
    },
    {
     "name": "stdout",
     "output_type": "stream",
     "text": [
      "Successfully sent the mail!!!\n"
     ]
    },
    {
     "name": "stderr",
     "output_type": "stream",
     "text": [
      "send: 'ehlo [220.67.126.125]\\r\\n'\n",
      "reply: b'250-smtp.gmail.com at your service, [220.67.126.125]\\r\\n'\n",
      "reply: b'250-SIZE 35882577\\r\\n'\n",
      "reply: b'250-8BITMIME\\r\\n'\n",
      "reply: b'250-STARTTLS\\r\\n'\n",
      "reply: b'250-ENHANCEDSTATUSCODES\\r\\n'\n",
      "reply: b'250-PIPELINING\\r\\n'\n",
      "reply: b'250-CHUNKING\\r\\n'\n",
      "reply: b'250 SMTPUTF8\\r\\n'\n",
      "reply: retcode (250); Msg: b'smtp.gmail.com at your service, [220.67.126.125]\\nSIZE 35882577\\n8BITMIME\\nSTARTTLS\\nENHANCEDSTATUSCODES\\nPIPELINING\\nCHUNKING\\nSMTPUTF8'\n",
      "send: 'STARTTLS\\r\\n'\n",
      "reply: b'220 2.0.0 Ready to start TLS\\r\\n'\n",
      "reply: retcode (220); Msg: b'2.0.0 Ready to start TLS'\n",
      "send: 'ehlo [220.67.126.125]\\r\\n'\n",
      "reply: b'250-smtp.gmail.com at your service, [220.67.126.125]\\r\\n'\n",
      "reply: b'250-SIZE 35882577\\r\\n'\n",
      "reply: b'250-8BITMIME\\r\\n'\n",
      "reply: b'250-AUTH LOGIN PLAIN XOAUTH2 PLAIN-CLIENTTOKEN OAUTHBEARER XOAUTH\\r\\n'\n",
      "reply: b'250-ENHANCEDSTATUSCODES\\r\\n'\n",
      "reply: b'250-PIPELINING\\r\\n'\n",
      "reply: b'250-CHUNKING\\r\\n'\n",
      "reply: b'250 SMTPUTF8\\r\\n'\n",
      "reply: retcode (250); Msg: b'smtp.gmail.com at your service, [220.67.126.125]\\nSIZE 35882577\\n8BITMIME\\nAUTH LOGIN PLAIN XOAUTH2 PLAIN-CLIENTTOKEN OAUTHBEARER XOAUTH\\nENHANCEDSTATUSCODES\\nPIPELINING\\nCHUNKING\\nSMTPUTF8'\n",
      "send: 'AUTH PLAIN AHRqZGRsZjEwMUBnbWFpbC5jb20AcWtqbGJoZ2l4cXd3enFvZw==\\r\\n'\n",
      "reply: b'235 2.7.0 Accepted\\r\\n'\n",
      "reply: retcode (235); Msg: b'2.7.0 Accepted'\n",
      "send: 'mail FROM:<tjddlf101@google.com> size=511\\r\\n'\n",
      "reply: b'250 2.1.0 OK u32sm924218pfg.220 - gsmtp\\r\\n'\n",
      "reply: retcode (250); Msg: b'2.1.0 OK u32sm924218pfg.220 - gsmtp'\n",
      "send: 'rcpt TO:<gjtjddlf101@naver.com>\\r\\n'\n",
      "reply: b'250 2.1.5 OK u32sm924218pfg.220 - gsmtp\\r\\n'\n",
      "reply: retcode (250); Msg: b'2.1.5 OK u32sm924218pfg.220 - gsmtp'\n",
      "send: 'data\\r\\n'\n",
      "reply: b'354  Go ahead u32sm924218pfg.220 - gsmtp\\r\\n'\n",
      "reply: retcode (354); Msg: b'Go ahead u32sm924218pfg.220 - gsmtp'\n",
      "data: (354, b'Go ahead u32sm924218pfg.220 - gsmtp')\n",
      "send: b'MIME-Version: 1.0\\r\\nContent-Type: multipart/alternative; charset=\"utf-8\"; boundary=\"===============0786577208598380386==\"\\r\\nContent-Transfer-Encoding: base64\\r\\nFrom: =?utf-8?b?7ZeI7ISx7J28?= <tjddlf101@google.com>\\r\\nTo: =?utf-8?b?7J207Iq566+8?= <gjtjddlf101@naver.com>\\r\\nSubject: =?utf-8?b?7J207Iq566+8?=\\r\\n\\r\\n--===============0786577208598380386==\\r\\nContent-Type: text/html; charset=\"utf-8\"\\r\\nMIME-Version: 1.0\\r\\nContent-Transfer-Encoding: base64\\r\\n\\r\\nPGgyPuydtOyKueuvvDwvaDE+\\r\\n\\r\\n--===============0786577208598380386==--\\r\\n.\\r\\n'\n",
      "reply: b'250 2.0.0 OK  1639099371 u32sm924218pfg.220 - gsmtp\\r\\n'\n",
      "reply: retcode (250); Msg: b'2.0.0 OK  1639099371 u32sm924218pfg.220 - gsmtp'\n",
      "data: (250, b'2.0.0 OK  1639099371 u32sm924218pfg.220 - gsmtp')\n",
      "send: 'quit\\r\\n'\n",
      "reply: b'221 2.0.0 closing connection u32sm924218pfg.220 - gsmtp\\r\\n'\n",
      "reply: retcode (221); Msg: b'2.0.0 closing connection u32sm924218pfg.220 - gsmtp'\n"
     ]
    },
    {
     "name": "stdout",
     "output_type": "stream",
     "text": [
      "['이한준', '김지연', '허수영', '강도휘', '강혜진', '김서영', '김용운', '김태주', '서유민', '안예은', '이무영', '이승민', '이채은', '임한이', '장예찬']\n",
      "Successfully sent the mail!!!\n",
      "['이한준', '김지연', '허수영', '강도휘', '강혜진', '김서영', '김용운', '김태주', '서유민', '안예은', '이무영', '이채은', '임한이', '장예찬']\n"
     ]
    },
    {
     "ename": "KeyboardInterrupt",
     "evalue": "",
     "output_type": "error",
     "traceback": [
      "\u001b[1;31m---------------------------------------------------------------------------\u001b[0m",
      "\u001b[1;31mKeyboardInterrupt\u001b[0m                         Traceback (most recent call last)",
      "\u001b[1;32m<ipython-input-2-bbc8651d728e>\u001b[0m in \u001b[0;36m<module>\u001b[1;34m\u001b[0m\n\u001b[0;32m     87\u001b[0m     \u001b[1;32mif\u001b[0m \u001b[0mlen\u001b[0m\u001b[1;33m(\u001b[0m\u001b[0mvar_list\u001b[0m\u001b[1;33m)\u001b[0m\u001b[1;33m==\u001b[0m\u001b[1;36m0\u001b[0m\u001b[1;33m:\u001b[0m\u001b[1;33m\u001b[0m\u001b[1;33m\u001b[0m\u001b[0m\n\u001b[0;32m     88\u001b[0m         \u001b[1;32mbreak\u001b[0m\u001b[1;33m\u001b[0m\u001b[1;33m\u001b[0m\u001b[0m\n\u001b[1;32m---> 89\u001b[1;33m     \u001b[0mstatus\u001b[0m\u001b[1;33m=\u001b[0m\u001b[0mmain\u001b[0m\u001b[1;33m(\u001b[0m\u001b[0mstatus\u001b[0m\u001b[1;33m)\u001b[0m\u001b[1;33m\u001b[0m\u001b[1;33m\u001b[0m\u001b[0m\n\u001b[0m",
      "\u001b[1;32m<ipython-input-2-bbc8651d728e>\u001b[0m in \u001b[0;36mmain\u001b[1;34m(status)\u001b[0m\n\u001b[0;32m     75\u001b[0m         \u001b[0mprt_sc\u001b[0m\u001b[1;33m=\u001b[0m\u001b[0mpyautogui\u001b[0m\u001b[1;33m.\u001b[0m\u001b[0mscreenshot\u001b[0m\u001b[1;33m(\u001b[0m\u001b[1;33m)\u001b[0m\u001b[1;33m\u001b[0m\u001b[1;33m\u001b[0m\u001b[0m\n\u001b[0;32m     76\u001b[0m         \u001b[0mrgb_sc\u001b[0m\u001b[1;33m=\u001b[0m\u001b[0mprt_sc\u001b[0m\u001b[1;33m.\u001b[0m\u001b[0mconvert\u001b[0m\u001b[1;33m(\u001b[0m\u001b[1;34m'RGB'\u001b[0m\u001b[1;33m)\u001b[0m\u001b[1;33m\u001b[0m\u001b[1;33m\u001b[0m\u001b[0m\n\u001b[1;32m---> 77\u001b[1;33m         \u001b[1;32mif\u001b[0m \u001b[0mcheck_result\u001b[0m\u001b[1;33m(\u001b[0m\u001b[0mrgb_sc\u001b[0m\u001b[1;33m,\u001b[0m\u001b[0mname\u001b[0m\u001b[1;33m)\u001b[0m\u001b[1;33m:\u001b[0m\u001b[1;33m\u001b[0m\u001b[1;33m\u001b[0m\u001b[0m\n\u001b[0m\u001b[0;32m     78\u001b[0m             \u001b[0mvar_list\u001b[0m\u001b[1;33m.\u001b[0m\u001b[0mremove\u001b[0m\u001b[1;33m(\u001b[0m\u001b[0mname\u001b[0m\u001b[1;33m)\u001b[0m\u001b[1;33m\u001b[0m\u001b[1;33m\u001b[0m\u001b[0m\n\u001b[0;32m     79\u001b[0m             \u001b[0mprint\u001b[0m\u001b[1;33m(\u001b[0m\u001b[0mvar_list\u001b[0m\u001b[1;33m)\u001b[0m\u001b[1;33m\u001b[0m\u001b[1;33m\u001b[0m\u001b[0m\n",
      "\u001b[1;32m<ipython-input-2-bbc8651d728e>\u001b[0m in \u001b[0;36mcheck_result\u001b[1;34m(rgb_sc, name)\u001b[0m\n\u001b[0;32m     60\u001b[0m     \u001b[1;32mfor\u001b[0m \u001b[0mx\u001b[0m \u001b[1;32min\u001b[0m \u001b[0mrange\u001b[0m\u001b[1;33m(\u001b[0m\u001b[0mrgb_sc\u001b[0m\u001b[1;33m.\u001b[0m\u001b[0mheight\u001b[0m\u001b[1;33m)\u001b[0m\u001b[1;33m:\u001b[0m\u001b[1;33m\u001b[0m\u001b[1;33m\u001b[0m\u001b[0m\n\u001b[0;32m     61\u001b[0m         \u001b[1;32mfor\u001b[0m \u001b[0my\u001b[0m \u001b[1;32min\u001b[0m \u001b[0mrange\u001b[0m\u001b[1;33m(\u001b[0m\u001b[0mrgb_sc\u001b[0m\u001b[1;33m.\u001b[0m\u001b[0mwidth\u001b[0m\u001b[1;33m)\u001b[0m\u001b[1;33m:\u001b[0m\u001b[1;33m\u001b[0m\u001b[1;33m\u001b[0m\u001b[0m\n\u001b[1;32m---> 62\u001b[1;33m             \u001b[1;32mif\u001b[0m \u001b[1;33m(\u001b[0m\u001b[1;36m255\u001b[0m\u001b[1;33m,\u001b[0m\u001b[1;36m150\u001b[0m\u001b[1;33m,\u001b[0m\u001b[1;36m50\u001b[0m\u001b[1;33m)\u001b[0m \u001b[1;33m==\u001b[0m \u001b[0mrgb_sc\u001b[0m\u001b[1;33m.\u001b[0m\u001b[0mgetpixel\u001b[0m\u001b[1;33m(\u001b[0m\u001b[1;33m(\u001b[0m\u001b[0my\u001b[0m\u001b[1;33m,\u001b[0m\u001b[0mx\u001b[0m\u001b[1;33m)\u001b[0m\u001b[1;33m)\u001b[0m\u001b[1;33m:\u001b[0m\u001b[1;33m\u001b[0m\u001b[1;33m\u001b[0m\u001b[0m\n\u001b[0m\u001b[0;32m     63\u001b[0m                 \u001b[0msendd\u001b[0m\u001b[1;33m(\u001b[0m\u001b[0mname\u001b[0m\u001b[1;33m)\u001b[0m\u001b[1;33m\u001b[0m\u001b[1;33m\u001b[0m\u001b[0m\n\u001b[0;32m     64\u001b[0m                 \u001b[1;32mreturn\u001b[0m \u001b[1;32mTrue\u001b[0m\u001b[1;33m\u001b[0m\u001b[1;33m\u001b[0m\u001b[0m\n",
      "\u001b[1;32m~\\anaconda3\\lib\\site-packages\\PIL\\Image.py\u001b[0m in \u001b[0;36mgetpixel\u001b[1;34m(self, xy)\u001b[0m\n\u001b[0;32m   1374\u001b[0m         \"\"\"\n\u001b[0;32m   1375\u001b[0m \u001b[1;33m\u001b[0m\u001b[0m\n\u001b[1;32m-> 1376\u001b[1;33m         \u001b[0mself\u001b[0m\u001b[1;33m.\u001b[0m\u001b[0mload\u001b[0m\u001b[1;33m(\u001b[0m\u001b[1;33m)\u001b[0m\u001b[1;33m\u001b[0m\u001b[1;33m\u001b[0m\u001b[0m\n\u001b[0m\u001b[0;32m   1377\u001b[0m         \u001b[1;32mif\u001b[0m \u001b[0mself\u001b[0m\u001b[1;33m.\u001b[0m\u001b[0mpyaccess\u001b[0m\u001b[1;33m:\u001b[0m\u001b[1;33m\u001b[0m\u001b[1;33m\u001b[0m\u001b[0m\n\u001b[0;32m   1378\u001b[0m             \u001b[1;32mreturn\u001b[0m \u001b[0mself\u001b[0m\u001b[1;33m.\u001b[0m\u001b[0mpyaccess\u001b[0m\u001b[1;33m.\u001b[0m\u001b[0mgetpixel\u001b[0m\u001b[1;33m(\u001b[0m\u001b[0mxy\u001b[0m\u001b[1;33m)\u001b[0m\u001b[1;33m\u001b[0m\u001b[1;33m\u001b[0m\u001b[0m\n",
      "\u001b[1;32m~\\anaconda3\\lib\\site-packages\\PIL\\Image.py\u001b[0m in \u001b[0;36mload\u001b[1;34m(self)\u001b[0m\n\u001b[0;32m    817\u001b[0m         \u001b[1;33m:\u001b[0m\u001b[0mrtype\u001b[0m\u001b[1;33m:\u001b[0m \u001b[1;33m:\u001b[0m\u001b[0mref\u001b[0m\u001b[1;33m:\u001b[0m\u001b[0;31m`\u001b[0m\u001b[0mPixelAccess\u001b[0m\u001b[0;31m`\u001b[0m \u001b[1;32mor\u001b[0m \u001b[1;33m:\u001b[0m\u001b[0mpy\u001b[0m\u001b[1;33m:\u001b[0m\u001b[1;32mclass\u001b[0m\u001b[1;33m:\u001b[0m\u001b[0;31m`\u001b[0m\u001b[0mPIL\u001b[0m\u001b[1;33m.\u001b[0m\u001b[0mPyAccess\u001b[0m\u001b[0;31m`\u001b[0m\u001b[1;33m\u001b[0m\u001b[1;33m\u001b[0m\u001b[0m\n\u001b[0;32m    818\u001b[0m         \"\"\"\n\u001b[1;32m--> 819\u001b[1;33m         \u001b[1;32mif\u001b[0m \u001b[0mself\u001b[0m\u001b[1;33m.\u001b[0m\u001b[0mim\u001b[0m \u001b[1;32mand\u001b[0m \u001b[0mself\u001b[0m\u001b[1;33m.\u001b[0m\u001b[0mpalette\u001b[0m \u001b[1;32mand\u001b[0m \u001b[0mself\u001b[0m\u001b[1;33m.\u001b[0m\u001b[0mpalette\u001b[0m\u001b[1;33m.\u001b[0m\u001b[0mdirty\u001b[0m\u001b[1;33m:\u001b[0m\u001b[1;33m\u001b[0m\u001b[1;33m\u001b[0m\u001b[0m\n\u001b[0m\u001b[0;32m    820\u001b[0m             \u001b[1;31m# realize palette\u001b[0m\u001b[1;33m\u001b[0m\u001b[1;33m\u001b[0m\u001b[1;33m\u001b[0m\u001b[0m\n\u001b[0;32m    821\u001b[0m             \u001b[0mmode\u001b[0m\u001b[1;33m,\u001b[0m \u001b[0marr\u001b[0m \u001b[1;33m=\u001b[0m \u001b[0mself\u001b[0m\u001b[1;33m.\u001b[0m\u001b[0mpalette\u001b[0m\u001b[1;33m.\u001b[0m\u001b[0mgetdata\u001b[0m\u001b[1;33m(\u001b[0m\u001b[1;33m)\u001b[0m\u001b[1;33m\u001b[0m\u001b[1;33m\u001b[0m\u001b[0m\n",
      "\u001b[1;31mKeyboardInterrupt\u001b[0m: "
     ]
    }
   ],
   "source": [
    "from smtplib import SMTP\n",
    "import winsound as ws\n",
    "import pyautogui\n",
    "import time\n",
    "import pyperclip\n",
    "import mouse\n",
    "import os\n",
    "import smtplib\n",
    " \n",
    "from email.utils import formataddr\n",
    "from email.mime.text import MIMEText\n",
    "from email.mime.multipart import MIMEMultipart\n",
    "\n",
    "def sendd(name):\n",
    "    from_addr = formataddr(('허성일', 'tjddlf101@google.com'))\n",
    "    to_addr = formataddr((name, 'gjtjddlf101@naver.com'))\n",
    "\n",
    "    session = None\n",
    "\n",
    "    try:\n",
    "        # SMTP 세션 생성\n",
    "        session = smtplib.SMTP('smtp.gmail.com', 587)\n",
    "        session.set_debuglevel(True)\n",
    "\n",
    "        # SMTP 계정 인증 설정\n",
    "        session.ehlo()\n",
    "        session.starttls()\n",
    "        session.login('tjddlf101@gmail.com', 'qkjlbhgixqwwzqog')\n",
    "\n",
    "        # 메일 콘텐츠 설정\n",
    "        message = MIMEMultipart(\"alternative\")\n",
    "\n",
    "        # 메일 송/수신 옵션 설정\n",
    "        message.set_charset('utf-8')\n",
    "        message['From'] = from_addr\n",
    "        message['To'] = to_addr\n",
    "        message['Subject'] = name\n",
    "\n",
    "        # 메일 콘텐츠 - 내용\n",
    "        body = '<h2>%s</h1>'%(name)\n",
    "        bodyPart = MIMEText(body, 'html', 'utf-8')\n",
    "        message.attach( bodyPart )\n",
    "\n",
    "        # 메일 발송\n",
    "        session.sendmail(from_addr, to_addr, message.as_string())            \n",
    "\n",
    "        print( 'Successfully sent the mail!!!' )\n",
    "    except Exception as e:\n",
    "        print( e )\n",
    "    finally:\n",
    "        if session is not None:\n",
    "            session.quit()\n",
    "            \n",
    "def beepsound():\n",
    "    freq = 2000    # range : 37 ~ 32767\n",
    "    dur = 1000     # ms\n",
    "    ws.Beep(freq, dur) # winsound.Beep(frequency, duration)\n",
    "\n",
    "def check_result(rgb_sc,name):\n",
    "    for x in range(rgb_sc.height):\n",
    "        for y in range(rgb_sc.width):\n",
    "            if (255,150,50) == rgb_sc.getpixel((y,x)):\n",
    "                sendd(name)\n",
    "                return True\n",
    "def main(status):\n",
    "    while status:\n",
    "        if mouse.is_pressed():\n",
    "            break    \n",
    "    pyautogui.hotkey('f5')\n",
    "    time.sleep(3)\n",
    "    for name in var_list:\n",
    "        pyautogui.hotkey('ctrl', 'f')\n",
    "        pyperclip.copy(name)\n",
    "        pyautogui.hotkey('ctrl','v')\n",
    "        prt_sc=pyautogui.screenshot() \n",
    "        rgb_sc=prt_sc.convert('RGB')\n",
    "        if check_result(rgb_sc,name):\n",
    "            var_list.remove(name)\n",
    "            print(var_list)\n",
    "            return \n",
    "    return False\n",
    "     \n",
    "            \n",
    "var_list = input(\"student names with space\").split()\n",
    "status=True\n",
    "while True:\n",
    "    if len(var_list)==0:\n",
    "        break\n",
    "    status=main(status)"
   ]
  },
  {
   "cell_type": "code",
   "execution_count": null,
   "id": "d385f38f",
   "metadata": {},
   "outputs": [],
   "source": [
    "박현서 김서진 송예빈 김덕엽 여정희"
   ]
  },
  {
   "cell_type": "code",
   "execution_count": null,
   "id": "19ec9b18",
   "metadata": {},
   "outputs": [],
   "source": [
    "이한준 김지연 허수영 강도휘 강혜진 김서영 김용운 김태주 서유민 안예은 이무영 이채은 임한이 장예찬"
   ]
  }
 ],
 "metadata": {
  "kernelspec": {
   "display_name": "Python 3",
   "language": "python",
   "name": "python3"
  },
  "language_info": {
   "codemirror_mode": {
    "name": "ipython",
    "version": 3
   },
   "file_extension": ".py",
   "mimetype": "text/x-python",
   "name": "python",
   "nbconvert_exporter": "python",
   "pygments_lexer": "ipython3",
   "version": "3.8.8"
  }
 },
 "nbformat": 4,
 "nbformat_minor": 5
}
