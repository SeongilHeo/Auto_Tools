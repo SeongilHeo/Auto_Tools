{
 "cells": [
  {
   "cell_type": "code",
   "execution_count": null,
   "id": "celtic-performer",
   "metadata": {},
   "outputs": [],
   "source": [
    "def stair(n, s, price):\n",
    "   if 1 <= n <= 10000:\n",
    "       price.insert(0, 0)  # 혼란을 방지하기 위해 최초 인덱스 값에 0을 추가함\n",
    "       dp = [0 for i in range(n + 1)]  # 0부터 n까지 0을 담은 DP배열 (i번째 계단까지 오르는 데 드는 비용의 최소를 나타내는 배열)을 만듦.\n",
    "\n",
    "       for i in range(1, n+1):\n",
    "           dp[i] = min(dp[n-s], dp[i-s] + price[i])\n",
    "       return dp[n]\n",
    "\n",
    "n,s = map(int, input().split())\n",
    "price = list(map(int, input().split()))\n",
    "print(stair(n, s, price))"
   ]
  },
  {
   "cell_type": "code",
   "execution_count": null,
   "id": "cross-symposium",
   "metadata": {},
   "outputs": [],
   "source": []
  },
  {
   "cell_type": "code",
   "execution_count": 11,
   "id": "planned-combination",
   "metadata": {},
   "outputs": [
    {
     "name": "stdin",
     "output_type": "stream",
     "text": [
      " 7 3\n",
      " 3 7 9 9 2 5 4\n"
     ]
    }
   ],
   "source": [
    "n,s=map(int,input().split())\n",
    "L=list(map(int,input().split()))\n",
    "dp=[0]*n\n",
    "dp[0:s+1]=L[0:s+1]\n",
    "for pose in range(s+1,n):\n",
    "    dp[pose]=L[pose]+min(dp[pose-s:pose])\n",
    "\n",
    "R=dp[-1]\n"
   ]
  },
  {
   "cell_type": "code",
   "execution_count": 12,
   "id": "vital-excuse",
   "metadata": {},
   "outputs": [
    {
     "data": {
      "text/plain": [
       "13"
      ]
     },
     "execution_count": 12,
     "metadata": {},
     "output_type": "execute_result"
    }
   ],
   "source": [
    "R"
   ]
  },
  {
   "cell_type": "code",
   "execution_count": 13,
   "id": "conditional-knock",
   "metadata": {},
   "outputs": [
    {
     "data": {
      "text/plain": [
       "[3, 7, 9, 9, 9, 14, 13]"
      ]
     },
     "execution_count": 13,
     "metadata": {},
     "output_type": "execute_result"
    }
   ],
   "source": [
    "dp"
   ]
  },
  {
   "cell_type": "code",
   "execution_count": null,
   "id": "affiliated-device",
   "metadata": {},
   "outputs": [],
   "source": [
    "7 3\n",
    " 3 7 9 9 2 5 4"
   ]
  }
 ],
 "metadata": {
  "kernelspec": {
   "display_name": "Python 3",
   "language": "python",
   "name": "python3"
  },
  "language_info": {
   "codemirror_mode": {
    "name": "ipython",
    "version": 3
   },
   "file_extension": ".py",
   "mimetype": "text/x-python",
   "name": "python",
   "nbconvert_exporter": "python",
   "pygments_lexer": "ipython3",
   "version": "3.9.2"
  }
 },
 "nbformat": 4,
 "nbformat_minor": 5
}
