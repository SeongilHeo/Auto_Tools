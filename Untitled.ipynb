{
 "cells": [
  {
   "cell_type": "code",
   "execution_count": 1,
   "id": "little-questionnaire",
   "metadata": {},
   "outputs": [
    {
     "ename": "KeyboardInterrupt",
     "evalue": "Interrupted by user",
     "output_type": "error",
     "traceback": [
      "\u001b[1;31m---------------------------------------------------------------------------\u001b[0m",
      "\u001b[1;31mKeyboardInterrupt\u001b[0m                         Traceback (most recent call last)",
      "\u001b[1;32m<ipython-input-1-bbc8651d728e>\u001b[0m in \u001b[0;36m<module>\u001b[1;34m\u001b[0m\n\u001b[0;32m     82\u001b[0m \u001b[1;33m\u001b[0m\u001b[0m\n\u001b[0;32m     83\u001b[0m \u001b[1;33m\u001b[0m\u001b[0m\n\u001b[1;32m---> 84\u001b[1;33m \u001b[0mvar_list\u001b[0m \u001b[1;33m=\u001b[0m \u001b[0minput\u001b[0m\u001b[1;33m(\u001b[0m\u001b[1;34m\"student names with space\"\u001b[0m\u001b[1;33m)\u001b[0m\u001b[1;33m.\u001b[0m\u001b[0msplit\u001b[0m\u001b[1;33m(\u001b[0m\u001b[1;33m)\u001b[0m\u001b[1;33m\u001b[0m\u001b[1;33m\u001b[0m\u001b[0m\n\u001b[0m\u001b[0;32m     85\u001b[0m \u001b[0mstatus\u001b[0m\u001b[1;33m=\u001b[0m\u001b[1;32mTrue\u001b[0m\u001b[1;33m\u001b[0m\u001b[1;33m\u001b[0m\u001b[0m\n\u001b[0;32m     86\u001b[0m \u001b[1;32mwhile\u001b[0m \u001b[1;32mTrue\u001b[0m\u001b[1;33m:\u001b[0m\u001b[1;33m\u001b[0m\u001b[1;33m\u001b[0m\u001b[0m\n",
      "\u001b[1;32mc:\\users\\user\\appdata\\local\\programs\\python\\python39\\lib\\site-packages\\ipykernel\\kernelbase.py\u001b[0m in \u001b[0;36mraw_input\u001b[1;34m(self, prompt)\u001b[0m\n\u001b[0;32m    846\u001b[0m                 \u001b[1;34m\"raw_input was called, but this frontend does not support input requests.\"\u001b[0m\u001b[1;33m\u001b[0m\u001b[1;33m\u001b[0m\u001b[0m\n\u001b[0;32m    847\u001b[0m             )\n\u001b[1;32m--> 848\u001b[1;33m         return self._input_request(str(prompt),\n\u001b[0m\u001b[0;32m    849\u001b[0m             \u001b[0mself\u001b[0m\u001b[1;33m.\u001b[0m\u001b[0m_parent_ident\u001b[0m\u001b[1;33m,\u001b[0m\u001b[1;33m\u001b[0m\u001b[1;33m\u001b[0m\u001b[0m\n\u001b[0;32m    850\u001b[0m             \u001b[0mself\u001b[0m\u001b[1;33m.\u001b[0m\u001b[0m_parent_header\u001b[0m\u001b[1;33m,\u001b[0m\u001b[1;33m\u001b[0m\u001b[1;33m\u001b[0m\u001b[0m\n",
      "\u001b[1;32mc:\\users\\user\\appdata\\local\\programs\\python\\python39\\lib\\site-packages\\ipykernel\\kernelbase.py\u001b[0m in \u001b[0;36m_input_request\u001b[1;34m(self, prompt, ident, parent, password)\u001b[0m\n\u001b[0;32m    890\u001b[0m             \u001b[1;32mexcept\u001b[0m \u001b[0mKeyboardInterrupt\u001b[0m\u001b[1;33m:\u001b[0m\u001b[1;33m\u001b[0m\u001b[1;33m\u001b[0m\u001b[0m\n\u001b[0;32m    891\u001b[0m                 \u001b[1;31m# re-raise KeyboardInterrupt, to truncate traceback\u001b[0m\u001b[1;33m\u001b[0m\u001b[1;33m\u001b[0m\u001b[1;33m\u001b[0m\u001b[0m\n\u001b[1;32m--> 892\u001b[1;33m                 \u001b[1;32mraise\u001b[0m \u001b[0mKeyboardInterrupt\u001b[0m\u001b[1;33m(\u001b[0m\u001b[1;34m\"Interrupted by user\"\u001b[0m\u001b[1;33m)\u001b[0m \u001b[1;32mfrom\u001b[0m \u001b[1;32mNone\u001b[0m\u001b[1;33m\u001b[0m\u001b[1;33m\u001b[0m\u001b[0m\n\u001b[0m\u001b[0;32m    893\u001b[0m             \u001b[1;32mexcept\u001b[0m \u001b[0mException\u001b[0m \u001b[1;32mas\u001b[0m \u001b[0me\u001b[0m\u001b[1;33m:\u001b[0m\u001b[1;33m\u001b[0m\u001b[1;33m\u001b[0m\u001b[0m\n\u001b[0;32m    894\u001b[0m                 \u001b[0mself\u001b[0m\u001b[1;33m.\u001b[0m\u001b[0mlog\u001b[0m\u001b[1;33m.\u001b[0m\u001b[0mwarning\u001b[0m\u001b[1;33m(\u001b[0m\u001b[1;34m\"Invalid Message:\"\u001b[0m\u001b[1;33m,\u001b[0m \u001b[0mexc_info\u001b[0m\u001b[1;33m=\u001b[0m\u001b[1;32mTrue\u001b[0m\u001b[1;33m)\u001b[0m\u001b[1;33m\u001b[0m\u001b[1;33m\u001b[0m\u001b[0m\n",
      "\u001b[1;31mKeyboardInterrupt\u001b[0m: Interrupted by user"
     ]
    }
   ],
   "source": [
    "from smtplib import SMTP\n",
    "import winsound as ws\n",
    "import pyautogui\n",
    "import time\n",
    "import pyperclip\n",
    "import mouse\n",
    "import os\n",
    "import smtplib\n",
    " \n",
    "from email.utils import formataddr\n",
    "from email.mime.text import MIMEText\n",
    "from email.mime.multipart import MIMEMultipart\n",
    "\n",
    "def sendd(name):\n",
    "    from_addr = formataddr(('허성일', 'tjddlf101@google.com'))\n",
    "    to_addr = formataddr((name, 'gjtjddlf101@naver.com'))\n",
    "\n",
    "    session = None\n",
    "\n",
    "    try:\n",
    "        # SMTP 세션 생성\n",
    "        session = smtplib.SMTP('smtp.gmail.com', 587)\n",
    "        session.set_debuglevel(True)\n",
    "\n",
    "        # SMTP 계정 인증 설정\n",
    "        session.ehlo()\n",
    "        session.starttls()\n",
    "        session.login('tjddlf101@gmail.com', 'qkjlbhgixqwwzqog')\n",
    "\n",
    "        # 메일 콘텐츠 설정\n",
    "        message = MIMEMultipart(\"alternative\")\n",
    "\n",
    "        # 메일 송/수신 옵션 설정\n",
    "        message.set_charset('utf-8')\n",
    "        message['From'] = from_addr\n",
    "        message['To'] = to_addr\n",
    "        message['Subject'] = name\n",
    "\n",
    "        # 메일 콘텐츠 - 내용\n",
    "        body = '<h2>%s</h1>'%(name)\n",
    "        bodyPart = MIMEText(body, 'html', 'utf-8')\n",
    "        message.attach( bodyPart )\n",
    "\n",
    "        # 메일 발송\n",
    "        session.sendmail(from_addr, to_addr, message.as_string())            \n",
    "\n",
    "        print( 'Successfully sent the mail!!!' )\n",
    "    except Exception as e:\n",
    "        print( e )\n",
    "    finally:\n",
    "        if session is not None:\n",
    "            session.quit()\n",
    "            \n",
    "def beepsound():\n",
    "    freq = 2000    # range : 37 ~ 32767\n",
    "    dur = 1000     # ms\n",
    "    ws.Beep(freq, dur) # winsound.Beep(frequency, duration)\n",
    "\n",
    "def check_result(rgb_sc,name):\n",
    "    for x in range(rgb_sc.height):\n",
    "        for y in range(rgb_sc.width):\n",
    "            if (255,150,50) == rgb_sc.getpixel((y,x)):\n",
    "                sendd(name)\n",
    "                return True\n",
    "def main(status):\n",
    "    while status:\n",
    "        if mouse.is_pressed():\n",
    "            break    \n",
    "    pyautogui.hotkey('f5')\n",
    "    time.sleep(3)\n",
    "    for name in var_list:\n",
    "        pyautogui.hotkey('ctrl', 'f')\n",
    "        pyperclip.copy(name)\n",
    "        pyautogui.hotkey('ctrl','v')\n",
    "        prt_sc=pyautogui.screenshot() \n",
    "        rgb_sc=prt_sc.convert('RGB')\n",
    "        if check_result(rgb_sc,name):\n",
    "            var_list.remove(name)\n",
    "            print(var_list)\n",
    "            return \n",
    "    return False\n",
    "     \n",
    "            \n",
    "var_list = input(\"student names with space\").split()\n",
    "status=True\n",
    "while True:\n",
    "    if len(var_list)==0:\n",
    "        break\n",
    "    status=main(status)"
   ]
  },
  {
   "cell_type": "code",
   "execution_count": null,
   "id": "internal-times",
   "metadata": {},
   "outputs": [],
   "source": [
    "def stair(n, s, price):\n",
    "   if 1 <= n <= 10000:\n",
    "       price.insert(0, 0)  # 혼란을 방지하기 위해 최초 인덱스 값에 0을 추가함\n",
    "       dp = [0 for i in range(n + 1)]  # 0부터 n까지 0을 담은 DP배열 (i번째 계단까지 오르는 데 드는 비용의 최소를 나타내는 배열)을 만듦.\n",
    "\n",
    "       for i in range(1, n+1):\n",
    "           dp[i] = min(dp[n-s], dp[i-s] + price[i])\n",
    "       return dp[n]\n",
    "\n",
    "n,s = map(int, input().split())\n",
    "price = list(map(int, input().split()))\n",
    "print(stair(n, s, price))"
   ]
  },
  {
   "cell_type": "code",
   "execution_count": null,
   "id": "permanent-savannah",
   "metadata": {},
   "outputs": [],
   "source": []
  },
  {
   "cell_type": "code",
   "execution_count": 11,
   "id": "hawaiian-compression",
   "metadata": {},
   "outputs": [
    {
     "name": "stdin",
     "output_type": "stream",
     "text": [
      " 7 3\n",
      " 3 7 9 9 2 5 4\n"
     ]
    }
   ],
   "source": [
    "n,s=map(int,input().split())\n",
    "L=list(map(int,input().split()))\n",
    "dp=[0]*n\n",
    "dp[0:s+1]=L[0:s+1]\n",
    "for pose in range(s+1,n):\n",
    "    dp[pose]=L[pose]+min(dp[pose-s:pose])\n",
    "\n",
    "R=dp[-1]\n"
   ]
  },
  {
   "cell_type": "code",
   "execution_count": 12,
   "id": "annual-transparency",
   "metadata": {},
   "outputs": [
    {
     "data": {
      "text/plain": [
       "13"
      ]
     },
     "execution_count": 12,
     "metadata": {},
     "output_type": "execute_result"
    }
   ],
   "source": [
    "R"
   ]
  },
  {
   "cell_type": "code",
   "execution_count": 13,
   "id": "special-column",
   "metadata": {},
   "outputs": [
    {
     "data": {
      "text/plain": [
       "[3, 7, 9, 9, 9, 14, 13]"
      ]
     },
     "execution_count": 13,
     "metadata": {},
     "output_type": "execute_result"
    }
   ],
   "source": [
    "하윤주 권예림 김민진 김은주 김하영 서예원 신유진 유준식 이예솔 이예진 이효지 조현아"
   ]
  },
  {
   "cell_type": "code",
   "execution_count": null,
   "id": "adopted-monroe",
   "metadata": {},
   "outputs": [],
   "source": [
    "7 3\n",
    " 3 7 9 9 2 5 4"
   ]
  }
 ],
 "metadata": {
  "kernelspec": {
   "display_name": "Python 3",
   "language": "python",
   "name": "python3"
  },
  "language_info": {
   "codemirror_mode": {
    "name": "ipython",
    "version": 3
   },
   "file_extension": ".py",
   "mimetype": "text/x-python",
   "name": "python",
   "nbconvert_exporter": "python",
   "pygments_lexer": "ipython3",
   "version": "3.8.8"
  }
 },
 "nbformat": 4,
 "nbformat_minor": 5
}
