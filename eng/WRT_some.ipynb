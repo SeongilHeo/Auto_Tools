{
 "cells": [
  {
   "cell_type": "markdown",
   "id": "alike-thailand",
   "metadata": {},
   "source": [
    "### Load Data from .txt files as Dictionary 'D'"
   ]
  },
  {
   "cell_type": "code",
   "execution_count": 1,
   "id": "hazardous-priority",
   "metadata": {},
   "outputs": [
    {
     "name": "stdin",
     "output_type": "stream",
     "text": [
      "Enter the data(ex: 2 -> day2) 2\n"
     ]
    }
   ],
   "source": [
    "day=int(input(\"Enter the data(ex: 2 -> day2)\"))\n",
    "E=open('./data/%02dE.txt'%(day),'r',encoding='utf-8')\n",
    "K=open('./data/%02dK.txt'%(day),'r',encoding='utf-8')\n",
    "D={}\n",
    "while True:\n",
    "    a=K.readline().strip()\n",
    "    if a:\n",
    "        D[a]=E.readline().strip()\n",
    "    else:\n",
    "        break\n",
    "E.close()\n",
    "K.close()"
   ]
  },
  {
   "cell_type": "code",
   "execution_count": null,
   "id": "731bd59b-b664-4882-87cb-5b0ba1de5c9a",
   "metadata": {},
   "outputs": [],
   "source": [
    "L=list(D.keys())\n",
    "ori=len(L)\n",
    "i=0\n",
    "for each_kor in L:\n",
    "    print(\"%s\\t\\tcount %02d\"%(each_kor,len(L)-i))\n",
    "    if i==ori:\n",
    "        print(\"----------------------------------\")\n",
    "        print(\"review\",len(L))\n",
    "    if input().strip()!=D[each_kor]:\n",
    "        L.append(each_kor)\n",
    "        print(\"*******\"+each_kor+\"->\"+D[each_kor]+\"*******\")\n",
    "        print(\"*%s*\"%(input().strip()==D[each_kor]))\n",
    "    else:\n",
    "        i+=1\n",
    "    print()"
   ]
  },
  {
   "cell_type": "code",
   "execution_count": 2,
   "id": "analyzed-patient",
   "metadata": {},
   "outputs": [
    {
     "name": "stdout",
     "output_type": "stream",
     "text": [
      "^C\n"
     ]
    }
   ],
   "source": [
    "!quiz.py"
   ]
  },
  {
   "cell_type": "code",
   "execution_count": null,
   "id": "every-haiti",
   "metadata": {},
   "outputs": [],
   "source": []
  }
 ],
 "metadata": {
  "kernelspec": {
   "display_name": "Python 3",
   "language": "python",
   "name": "python3"
  },
  "language_info": {
   "codemirror_mode": {
    "name": "ipython",
    "version": 3
   },
   "file_extension": ".py",
   "mimetype": "text/x-python",
   "name": "python",
   "nbconvert_exporter": "python",
   "pygments_lexer": "ipython3",
   "version": "3.8.8"
  },
  "toc-autonumbering": true,
  "toc-showcode": false,
  "toc-showmarkdowntxt": true
 },
 "nbformat": 4,
 "nbformat_minor": 5
}
